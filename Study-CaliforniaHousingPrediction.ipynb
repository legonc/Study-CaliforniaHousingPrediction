{
 "cells": [
  {
   "cell_type": "markdown",
   "id": "GEqQaHzsZ_bA",
   "metadata": {
    "id": "GEqQaHzsZ_bA"
   },
   "source": [
    "# Предсказание стоимости жилья\n",
    "\n",
    "В проекте вам нужно обучить модель линейной регрессии на данных о жилье в Калифорнии в 1990 году. На основе данных нужно предсказать медианную стоимость дома в жилом массиве. Обучите модель и сделайте предсказания на тестовой выборке. Для оценки качества модели используйте метрики RMSE, MAE и R2."
   ]
  },
  {
   "cell_type": "markdown",
   "id": "b0db2a86",
   "metadata": {},
   "source": [
    "## Установка и загрузка библиотек"
   ]
  },
  {
   "cell_type": "code",
   "execution_count": 1,
   "id": "7a2dc7aa",
   "metadata": {},
   "outputs": [
    {
     "name": "stdout",
     "output_type": "stream",
     "text": [
      "Requirement already satisfied: pyspark in /opt/conda/lib/python3.9/site-packages (3.0.2)\r\n",
      "Requirement already satisfied: py4j==0.10.9 in /opt/conda/lib/python3.9/site-packages (from pyspark) (0.10.9)\r\n"
     ]
    }
   ],
   "source": [
    "!pip install pyspark -q"
   ]
  },
  {
   "cell_type": "code",
   "execution_count": 2,
   "id": "b9785054",
   "metadata": {},
   "outputs": [],
   "source": [
    "# все импорты\n",
    "import os\n",
    "from pyspark.sql import SparkSession\n",
    "from pyspark.sql.functions import col, when, count\n",
    "from pyspark.ml.feature import StringIndexer, OneHotEncoder, VectorAssembler\n",
    "from pyspark.ml import Pipeline\n",
    "from pyspark.ml.regression import LinearRegression\n",
    "from pyspark.ml.evaluation import RegressionEvaluator\n",
    "from pyspark.sql import functions as F\n",
    "import matplotlib.pyplot as plt\n",
    "import seaborn as sns"
   ]
  },
  {
   "cell_type": "markdown",
   "id": "24c09fe5",
   "metadata": {},
   "source": [
    "## Инициализация Spark"
   ]
  },
  {
   "cell_type": "code",
   "execution_count": 3,
   "id": "8919358d",
   "metadata": {},
   "outputs": [],
   "source": [
    "spark = SparkSession.builder \\\n",
    "    .appName(\"Housing Data Analysis\") \\\n",
    "    .getOrCreate()"
   ]
  },
  {
   "cell_type": "markdown",
   "id": "8b8e3f54",
   "metadata": {},
   "source": [
    "## Загрузка и изучение данных"
   ]
  },
  {
   "cell_type": "code",
   "execution_count": 4,
   "id": "f9f9b751",
   "metadata": {},
   "outputs": [
    {
     "name": "stderr",
     "output_type": "stream",
     "text": [
      "                                                                                \r"
     ]
    }
   ],
   "source": [
    "data = spark.read.csv(\"/datasets/housing.csv\", header=True, inferSchema=True)"
   ]
  },
  {
   "cell_type": "code",
   "execution_count": 5,
   "id": "bf5e96c5",
   "metadata": {},
   "outputs": [
    {
     "name": "stdout",
     "output_type": "stream",
     "text": [
      "root\n",
      " |-- longitude: double (nullable = true)\n",
      " |-- latitude: double (nullable = true)\n",
      " |-- housing_median_age: double (nullable = true)\n",
      " |-- total_rooms: double (nullable = true)\n",
      " |-- total_bedrooms: double (nullable = true)\n",
      " |-- population: double (nullable = true)\n",
      " |-- households: double (nullable = true)\n",
      " |-- median_income: double (nullable = true)\n",
      " |-- median_house_value: double (nullable = true)\n",
      " |-- ocean_proximity: string (nullable = true)\n",
      "\n",
      "+---------+--------+------------------+-----------+--------------+----------+----------+-------------+------------------+---------------+\n",
      "|longitude|latitude|housing_median_age|total_rooms|total_bedrooms|population|households|median_income|median_house_value|ocean_proximity|\n",
      "+---------+--------+------------------+-----------+--------------+----------+----------+-------------+------------------+---------------+\n",
      "|  -122.23|   37.88|              41.0|      880.0|         129.0|     322.0|     126.0|       8.3252|          452600.0|       NEAR BAY|\n",
      "|  -122.22|   37.86|              21.0|     7099.0|        1106.0|    2401.0|    1138.0|       8.3014|          358500.0|       NEAR BAY|\n",
      "|  -122.24|   37.85|              52.0|     1467.0|         190.0|     496.0|     177.0|       7.2574|          352100.0|       NEAR BAY|\n",
      "|  -122.25|   37.85|              52.0|     1274.0|         235.0|     558.0|     219.0|       5.6431|          341300.0|       NEAR BAY|\n",
      "|  -122.25|   37.85|              52.0|     1627.0|         280.0|     565.0|     259.0|       3.8462|          342200.0|       NEAR BAY|\n",
      "+---------+--------+------------------+-----------+--------------+----------+----------+-------------+------------------+---------------+\n",
      "only showing top 5 rows\n",
      "\n"
     ]
    }
   ],
   "source": [
    "data.printSchema()\n",
    "data.show(5)"
   ]
  },
  {
   "cell_type": "markdown",
   "id": "27ba9522",
   "metadata": {},
   "source": [
    "Данные успешно загружены"
   ]
  },
  {
   "cell_type": "markdown",
   "id": "2dde8c4a",
   "metadata": {},
   "source": [
    "### Вывод по первичному изучению данных"
   ]
  },
  {
   "cell_type": "markdown",
   "id": "b9b37c1d",
   "metadata": {},
   "source": [
    "- Все числовые переменные имеют тип `double`, что корректно для работы с моделями машинного обучения в Spark.\n",
    "- Единственный категориальный признак — `ocean_proximity`, его необходимо закодировать (сначала через `StringIndexer`, затем — через `OneHotEncoder`).\n",
    "- Целевая переменная (`median_house_value`) также имеет тип `double`, что подходит для регрессионного анализа."
   ]
  },
  {
   "cell_type": "markdown",
   "id": "3122a031",
   "metadata": {},
   "source": [
    "## Предобработка данных"
   ]
  },
  {
   "cell_type": "markdown",
   "id": "5250037a",
   "metadata": {},
   "source": [
    "### Разделение"
   ]
  },
  {
   "cell_type": "code",
   "execution_count": 6,
   "id": "0baae0f1",
   "metadata": {},
   "outputs": [],
   "source": [
    "# # разделение на train/test\n",
    "train_raw, test = data.randomSplit([0.8, 0.2], seed=42)"
   ]
  },
  {
   "cell_type": "markdown",
   "id": "611211ab",
   "metadata": {},
   "source": [
    "### Обработка пропусков"
   ]
  },
  {
   "cell_type": "code",
   "execution_count": 7,
   "id": "cc065e29",
   "metadata": {},
   "outputs": [
    {
     "name": "stderr",
     "output_type": "stream",
     "text": [
      "[Stage 3:>                                                          (0 + 1) / 1]\r"
     ]
    },
    {
     "name": "stdout",
     "output_type": "stream",
     "text": [
      "+---------+--------+------------------+-----------+--------------+----------+----------+-------------+------------------+---------------+\n",
      "|longitude|latitude|housing_median_age|total_rooms|total_bedrooms|population|households|median_income|median_house_value|ocean_proximity|\n",
      "+---------+--------+------------------+-----------+--------------+----------+----------+-------------+------------------+---------------+\n",
      "|        0|       0|                 0|          0|           157|         0|         0|            0|                 0|              0|\n",
      "+---------+--------+------------------+-----------+--------------+----------+----------+-------------+------------------+---------------+\n",
      "\n"
     ]
    },
    {
     "name": "stderr",
     "output_type": "stream",
     "text": [
      "                                                                                \r"
     ]
    }
   ],
   "source": [
    "# проверка на пропуски\n",
    "train_raw.select([count(when(col(c).isNull(), c)).alias(c) for c in train_raw.columns]).show()"
   ]
  },
  {
   "cell_type": "code",
   "execution_count": 8,
   "id": "49dc2b41",
   "metadata": {},
   "outputs": [
    {
     "name": "stderr",
     "output_type": "stream",
     "text": [
      "                                                                                \r"
     ]
    },
    {
     "data": {
      "text/html": [
       "<div>\n",
       "<style scoped>\n",
       "    .dataframe tbody tr th:only-of-type {\n",
       "        vertical-align: middle;\n",
       "    }\n",
       "\n",
       "    .dataframe tbody tr th {\n",
       "        vertical-align: top;\n",
       "    }\n",
       "\n",
       "    .dataframe thead th {\n",
       "        text-align: right;\n",
       "    }\n",
       "</style>\n",
       "<table border=\"1\" class=\"dataframe\">\n",
       "  <thead>\n",
       "    <tr style=\"text-align: right;\">\n",
       "      <th></th>\n",
       "      <th>summary</th>\n",
       "      <th>longitude</th>\n",
       "      <th>latitude</th>\n",
       "      <th>housing_median_age</th>\n",
       "      <th>total_rooms</th>\n",
       "      <th>total_bedrooms</th>\n",
       "      <th>population</th>\n",
       "      <th>households</th>\n",
       "      <th>median_income</th>\n",
       "      <th>median_house_value</th>\n",
       "      <th>ocean_proximity</th>\n",
       "    </tr>\n",
       "  </thead>\n",
       "  <tbody>\n",
       "    <tr>\n",
       "      <th>0</th>\n",
       "      <td>count</td>\n",
       "      <td>16560</td>\n",
       "      <td>16560</td>\n",
       "      <td>16560</td>\n",
       "      <td>16560</td>\n",
       "      <td>16403</td>\n",
       "      <td>16560</td>\n",
       "      <td>16560</td>\n",
       "      <td>16560</td>\n",
       "      <td>16560</td>\n",
       "      <td>16560</td>\n",
       "    </tr>\n",
       "    <tr>\n",
       "      <th>1</th>\n",
       "      <td>mean</td>\n",
       "      <td>-119.5842886473419</td>\n",
       "      <td>35.65215519323691</td>\n",
       "      <td>28.634722222222223</td>\n",
       "      <td>2629.759963768116</td>\n",
       "      <td>536.9965859903676</td>\n",
       "      <td>1420.209963768116</td>\n",
       "      <td>498.7530193236715</td>\n",
       "      <td>3.852551225845424</td>\n",
       "      <td>205596.39806763286</td>\n",
       "      <td>None</td>\n",
       "    </tr>\n",
       "    <tr>\n",
       "      <th>2</th>\n",
       "      <td>stddev</td>\n",
       "      <td>2.007848863288596</td>\n",
       "      <td>2.144785065244251</td>\n",
       "      <td>12.589563031817192</td>\n",
       "      <td>2173.913914969032</td>\n",
       "      <td>419.89637556422764</td>\n",
       "      <td>1089.8183884257737</td>\n",
       "      <td>380.5956744980795</td>\n",
       "      <td>1.8833127665763663</td>\n",
       "      <td>114804.48784864499</td>\n",
       "      <td>None</td>\n",
       "    </tr>\n",
       "    <tr>\n",
       "      <th>3</th>\n",
       "      <td>min</td>\n",
       "      <td>-124.35</td>\n",
       "      <td>32.54</td>\n",
       "      <td>1.0</td>\n",
       "      <td>2.0</td>\n",
       "      <td>1.0</td>\n",
       "      <td>3.0</td>\n",
       "      <td>1.0</td>\n",
       "      <td>0.4999</td>\n",
       "      <td>14999.0</td>\n",
       "      <td>&lt;1H OCEAN</td>\n",
       "    </tr>\n",
       "    <tr>\n",
       "      <th>4</th>\n",
       "      <td>max</td>\n",
       "      <td>-114.31</td>\n",
       "      <td>41.95</td>\n",
       "      <td>52.0</td>\n",
       "      <td>39320.0</td>\n",
       "      <td>6210.0</td>\n",
       "      <td>16305.0</td>\n",
       "      <td>5358.0</td>\n",
       "      <td>15.0001</td>\n",
       "      <td>500001.0</td>\n",
       "      <td>NEAR OCEAN</td>\n",
       "    </tr>\n",
       "  </tbody>\n",
       "</table>\n",
       "</div>"
      ],
      "text/plain": [
       "  summary           longitude           latitude  housing_median_age  \\\n",
       "0   count               16560              16560               16560   \n",
       "1    mean  -119.5842886473419  35.65215519323691  28.634722222222223   \n",
       "2  stddev   2.007848863288596  2.144785065244251  12.589563031817192   \n",
       "3     min             -124.35              32.54                 1.0   \n",
       "4     max             -114.31              41.95                52.0   \n",
       "\n",
       "         total_rooms      total_bedrooms          population  \\\n",
       "0              16560               16403               16560   \n",
       "1  2629.759963768116   536.9965859903676   1420.209963768116   \n",
       "2  2173.913914969032  419.89637556422764  1089.8183884257737   \n",
       "3                2.0                 1.0                 3.0   \n",
       "4            39320.0              6210.0             16305.0   \n",
       "\n",
       "          households       median_income  median_house_value ocean_proximity  \n",
       "0              16560               16560               16560           16560  \n",
       "1  498.7530193236715   3.852551225845424  205596.39806763286            None  \n",
       "2  380.5956744980795  1.8833127665763663  114804.48784864499            None  \n",
       "3                1.0              0.4999             14999.0       <1H OCEAN  \n",
       "4             5358.0             15.0001            500001.0      NEAR OCEAN  "
      ]
     },
     "execution_count": 8,
     "metadata": {},
     "output_type": "execute_result"
    }
   ],
   "source": [
    "train_raw.describe().toPandas()"
   ]
  },
  {
   "cell_type": "markdown",
   "id": "5528513a",
   "metadata": {},
   "source": [
    "В поле total_bedrooms обнаружено 157 пропусков. Так как количество ванных комнат везде примерно одинаковое, заполню пропуски медианой."
   ]
  },
  {
   "cell_type": "code",
   "execution_count": 9,
   "id": "87c44765",
   "metadata": {},
   "outputs": [],
   "source": [
    "# заполняем пропуски медианой\n",
    "def handle_missing(df, median_values):\n",
    "    return df.fillna(median_values)\n",
    "\n",
    "train_median = {c: train_raw.approxQuantile(c, [0.5], 0.01)[0] \n",
    "               for c in train_raw.columns if c != 'ocean_proximity'}\n",
    "train_raw = handle_missing(train_raw, train_median)"
   ]
  },
  {
   "cell_type": "code",
   "execution_count": 10,
   "id": "d93108b7",
   "metadata": {},
   "outputs": [
    {
     "name": "stdout",
     "output_type": "stream",
     "text": [
      "+---------+--------+------------------+-----------+--------------+----------+----------+-------------+------------------+---------------+\n",
      "|longitude|latitude|housing_median_age|total_rooms|total_bedrooms|population|households|median_income|median_house_value|ocean_proximity|\n",
      "+---------+--------+------------------+-----------+--------------+----------+----------+-------------+------------------+---------------+\n",
      "|        0|       0|                 0|          0|             0|         0|         0|            0|                 0|              0|\n",
      "+---------+--------+------------------+-----------+--------------+----------+----------+-------------+------------------+---------------+\n",
      "\n"
     ]
    }
   ],
   "source": [
    "# проверка на пропуски\n",
    "train_raw.select([count(when(col(c).isNull(), c)).alias(c) for c in train_raw.columns]).show()"
   ]
  },
  {
   "cell_type": "markdown",
   "id": "e24e6aad",
   "metadata": {},
   "source": [
    "- **География:** широты и долготы указывают, что данные относятся к Калифорнии.\n",
    "- **Возраст домов:** медианный возраст варьируется от 1 до 52 лет, средний — около 28 лет.\n",
    "- **Размеры домов:** количество комнат и спален сильно варьируется, есть районы с очень большими значениями (максимум — 39320 комнат).\n",
    "- **Численность:** средняя численность населения в районе — ~1425 человек, максимальная — более 35 тысяч.\n",
    "- **Доходы:** средний медианный доход ~3.87 (в условных единицах, где 1 ≈ 10,000), максимум — 15.\n",
    "- **Целевая переменная (стоимость дома):** в среднем дома стоят около 206,856. Максимум ограничен на уровне 500,001 (возможно, искусственный потолок).\n",
    "- **Категориальный признак `ocean_proximity`:** содержит такие значения как `<1H OCEAN`, `NEAR OCEAN` и др., требует one-hot-кодирования для модели."
   ]
  },
  {
   "cell_type": "markdown",
   "id": "b0a1b09a",
   "metadata": {},
   "source": [
    "### Обработка выбросов"
   ]
  },
  {
   "cell_type": "code",
   "execution_count": 11,
   "id": "22640812",
   "metadata": {},
   "outputs": [
    {
     "name": "stdout",
     "output_type": "stream",
     "text": [
      "до фильтрации: 20640 строк\n",
      "после фильтрации: 15572 строк\n"
     ]
    }
   ],
   "source": [
    "numeric_cols = ['longitude', 'latitude', 'housing_median_age', 'total_rooms',\n",
    "               'total_bedrooms', 'population', 'households', 'median_income',\n",
    "               'median_house_value']\n",
    "\n",
    "def remove_outliers(df, column):\n",
    "    # получаем квартиль 1 и 3\n",
    "    q1, q3 = df.approxQuantile(column, [0.25, 0.75], 0.05)\n",
    "    iqr = q3 - q1\n",
    "    lower = q1 - 1.5 * iqr\n",
    "    upper = q3 + 1.5 * iqr\n",
    "    # фильтруем выбросы\n",
    "    return df.filter((F.col(column) >= lower) & (F.col(column) <= upper))\n",
    "\n",
    "train_clean = data\n",
    "\n",
    "for col in numeric_cols:\n",
    "    train_clean = remove_outliers(train_clean, col)\n",
    "\n",
    "print(f\"до фильтрации: {data.count()} строк\")\n",
    "print(f\"после фильтрации: {train_clean.count()} строк\")"
   ]
  },
  {
   "cell_type": "markdown",
   "id": "500e611c",
   "metadata": {},
   "source": [
    "### Вывод по предобработке данных"
   ]
  },
  {
   "cell_type": "markdown",
   "id": "f3966040",
   "metadata": {},
   "source": [
    "- Пропуски были обнаружены **только в поле `total_bedrooms`** и были успешно заполнены **медианным значением**.\n",
    "\n",
    "- Первичный анализ выявил **значительные выбросы** в ряде признаков, особенно связанных с **размером жилья** (`total_rooms`, `total_bedrooms`) и **численностью населения** (`population`).\n",
    "\n",
    "- После фильтрации выбросов с помощью метода **межквартильного размаха (IQR)** количество строк в датасете сократилось, что, предположительно, **повысит обобщающую способность модели** и **снизит влияние аномальных наблюдений**."
   ]
  },
  {
   "cell_type": "markdown",
   "id": "53871372",
   "metadata": {
    "id": "53871372"
   },
   "source": [
    "## Подготовка данных"
   ]
  },
  {
   "cell_type": "markdown",
   "id": "dd08252d",
   "metadata": {},
   "source": [
    "### Сбор признаков"
   ]
  },
  {
   "cell_type": "code",
   "execution_count": 12,
   "id": "f7995af1",
   "metadata": {},
   "outputs": [],
   "source": [
    "# собираем все признаки\n",
    "assembler_all = VectorAssembler(\n",
    "    inputCols=['longitude', 'latitude', 'housing_median_age', 'total_rooms',\n",
    "               'total_bedrooms', 'population', 'households', 'median_income',\n",
    "               'ocean_proximity_encoded'],\n",
    "    outputCol='features_all')\n",
    "\n",
    "assembler_num = VectorAssembler(\n",
    "    inputCols=['longitude', 'latitude', 'housing_median_age', 'total_rooms',\n",
    "               'total_bedrooms', 'population', 'households', 'median_income'],\n",
    "    outputCol='features_num')"
   ]
  },
  {
   "cell_type": "markdown",
   "id": "45782fbf",
   "metadata": {},
   "source": [
    "### Кодирование"
   ]
  },
  {
   "cell_type": "code",
   "execution_count": 13,
   "id": "c6c11806",
   "metadata": {},
   "outputs": [],
   "source": [
    "# кодируем ocean_proximity\n",
    "indexer = StringIndexer(inputCol='ocean_proximity', outputCol='ocean_proximity_index')\n",
    "encoder = OneHotEncoder(inputCols=['ocean_proximity_index'], outputCols=['ocean_proximity_encoded'])"
   ]
  },
  {
   "cell_type": "markdown",
   "id": "39a85b47",
   "metadata": {},
   "source": [
    "### Обучение пайплайнов"
   ]
  },
  {
   "cell_type": "code",
   "execution_count": 14,
   "id": "6adc23de",
   "metadata": {},
   "outputs": [
    {
     "name": "stderr",
     "output_type": "stream",
     "text": [
      "                                                                                \r"
     ]
    }
   ],
   "source": [
    "# трейн с выбросами все данные\n",
    "pipeline_all_raw = Pipeline(stages=[indexer, encoder, assembler_all]).fit(train_raw)\n",
    "model_data_all_raw = pipeline_all_raw.transform(train_raw)\n",
    "\n",
    "# трейн с выбросами числовые данные\n",
    "pipeline_num_raw = Pipeline(stages=[assembler_num]).fit(train_raw)\n",
    "model_data_num_raw = pipeline_num_raw.transform(train_raw)\n",
    "\n",
    "\n",
    "# трейн чистый все данные\n",
    "pipeline_all_clean = Pipeline(stages=[indexer, encoder, assembler_all]).fit(train_clean)\n",
    "model_data_all_clean = pipeline_all_clean.transform(train_clean)\n",
    "\n",
    "# трейн чистый числовые данные\n",
    "pipeline_num_clean = Pipeline(stages=[assembler_num]).fit(train_clean)\n",
    "model_data_num_clean = pipeline_num_clean.transform(train_clean)"
   ]
  },
  {
   "cell_type": "markdown",
   "id": "9f0a82f3",
   "metadata": {
    "id": "9f0a82f3"
   },
   "source": [
    "## Обучение моделей"
   ]
  },
  {
   "cell_type": "markdown",
   "id": "a712339f",
   "metadata": {},
   "source": [
    "### Обучение"
   ]
  },
  {
   "cell_type": "code",
   "execution_count": 15,
   "id": "4cd10d89",
   "metadata": {},
   "outputs": [
    {
     "name": "stderr",
     "output_type": "stream",
     "text": [
      "25/04/16 07:08:19 WARN Instrumentation: [e63f2460] regParam is zero, which might cause numerical instability and overfitting.\n",
      "25/04/16 07:08:20 WARN BLAS: Failed to load implementation from: com.github.fommil.netlib.NativeSystemBLAS\n",
      "25/04/16 07:08:20 WARN BLAS: Failed to load implementation from: com.github.fommil.netlib.NativeRefBLAS\n",
      "25/04/16 07:08:20 WARN LAPACK: Failed to load implementation from: com.github.fommil.netlib.NativeSystemLAPACK\n",
      "25/04/16 07:08:20 WARN LAPACK: Failed to load implementation from: com.github.fommil.netlib.NativeRefLAPACK\n",
      "25/04/16 07:08:22 WARN Instrumentation: [7170f6d9] regParam is zero, which might cause numerical instability and overfitting.\n",
      "25/04/16 07:08:25 WARN Instrumentation: [ec89ac98] regParam is zero, which might cause numerical instability and overfitting.\n",
      "25/04/16 07:08:27 WARN Instrumentation: [ca79551d] regParam is zero, which might cause numerical instability and overfitting.\n"
     ]
    }
   ],
   "source": [
    "lr = LinearRegression(labelCol='median_house_value')\n",
    "\n",
    "# обучение моделей на необработанных данных\n",
    "# все данные\n",
    "model_all_raw = lr.setFeaturesCol('features_all').fit(model_data_all_raw)\n",
    "# числовые\n",
    "model_num_raw = lr.setFeaturesCol('features_num').fit(model_data_num_raw)\n",
    "\n",
    "# обучение моделей на очищенных данных\n",
    "# все данные\n",
    "model_all_clean = lr.setFeaturesCol('features_all').fit(model_data_all_clean)\n",
    "# числовые\n",
    "model_num_clean = lr.setFeaturesCol('features_num').fit(model_data_num_clean)"
   ]
  },
  {
   "cell_type": "markdown",
   "id": "63364f7b",
   "metadata": {},
   "source": [
    "### Оценка моделей"
   ]
  },
  {
   "cell_type": "code",
   "execution_count": 16,
   "id": "a4ecbbe9",
   "metadata": {},
   "outputs": [],
   "source": [
    "# подготовка тестовых данных\n",
    "# заполнение пропусков\n",
    "test_filled = handle_missing(test, train_median)\n",
    "\n",
    "# кодируем на обученном пайплайне грязных данных\n",
    "test_processed_raw = pipeline_all_raw.transform(test_filled)\n",
    "test_processed_num_raw = pipeline_num_raw.transform(test_filled)\n",
    "\n",
    "# кодируем на обученном пайплайне чистых данных\n",
    "test_processed_clean = pipeline_all_clean.transform(test_filled)\n",
    "test_processed_num_clean = pipeline_num_clean.transform(test_filled)"
   ]
  },
  {
   "cell_type": "code",
   "execution_count": 17,
   "id": "f6c35014",
   "metadata": {},
   "outputs": [],
   "source": [
    "# предсказания на грязных данных\n",
    "predictions_raw = model_all_raw.transform(test_processed_raw)\n",
    "predictions_num_raw = model_num_raw.transform(test_processed_num_raw)\n",
    "\n",
    "# на чистых\n",
    "predictions_clean = model_all_clean.transform(test_processed_clean)\n",
    "predictions_num_clean = model_num_clean.transform(test_processed_num_clean)"
   ]
  },
  {
   "cell_type": "code",
   "execution_count": 18,
   "id": "8bbded44",
   "metadata": {},
   "outputs": [],
   "source": [
    "# метрики\n",
    "evaluator_rmse = RegressionEvaluator(labelCol='median_house_value', metricName='rmse')\n",
    "evaluator_mae = RegressionEvaluator(labelCol='median_house_value', metricName='mae')\n",
    "evaluator_r2 = RegressionEvaluator(labelCol='median_house_value', metricName='r2')\n",
    "\n",
    "def get_metrics(pred):\n",
    "    return [\n",
    "        evaluator_rmse.evaluate(pred),\n",
    "        evaluator_mae.evaluate(pred),\n",
    "        evaluator_r2.evaluate(pred)\n",
    "    ]\n",
    "\n",
    "metrics_all_raw = get_metrics(predictions_raw)\n",
    "metrics_num_raw = get_metrics(predictions_num_raw)\n",
    "metrics_all_clean = get_metrics(predictions_clean)\n",
    "metrics_num_clean = get_metrics(predictions_num_clean)"
   ]
  },
  {
   "cell_type": "code",
   "execution_count": 19,
   "id": "be715a2f",
   "metadata": {},
   "outputs": [
    {
     "name": "stdout",
     "output_type": "stream",
     "text": [
      "сырая модель с категориальными: [70787.022438254, 50864.15059960874, 0.6378395213746583]\n",
      "сырая модель без категориальных: [71792.07548723368, 51805.2897891992, 0.6274824107701698]\n",
      "очищенная модель с категориальными: [75739.36202107926, 51589.428388158565, 0.5853925980686869]\n",
      "очищенная модель без категориальных: [76753.77563624049, 52897.13527436186, 0.5742121518711115]\n"
     ]
    }
   ],
   "source": [
    "# выводим сравнение\n",
    "print('сырая модель с категориальными:', metrics_all_raw)\n",
    "print('сырая модель без категориальных:', metrics_num_raw)\n",
    "print('очищенная модель с категориальными:', metrics_all_clean)\n",
    "print('очищенная модель без категориальных:', metrics_num_clean)"
   ]
  },
  {
   "cell_type": "markdown",
   "id": "757fd103",
   "metadata": {
    "id": "757fd103"
   },
   "source": [
    "# Анализ результатов"
   ]
  },
  {
   "cell_type": "code",
   "execution_count": 20,
   "id": "12f54d89",
   "metadata": {},
   "outputs": [
    {
     "data": {
      "image/png": "[encoded data removed]",
      "text/plain": [
       "<Figure size 864x288 with 2 Axes>"
      ]
     },
     "metadata": {
      "needs_background": "light"
     },
     "output_type": "display_data"
    }
   ],
   "source": [
    "### Сбор признаков# рисуем графики\n",
    "# фигурf с 1 строкой и 2 столбцами\n",
    "fig, (ax1, ax2) = plt.subplots(1, 2, figsize=(12, 4))\n",
    "\n",
    "colors = ['skyblue', 'lightsalmon', 'plum', 'lightcoral']\n",
    "\n",
    "# данные для RMSE и MAE\n",
    "labels_rmse_mae = ['RMSE', 'MAE']\n",
    "x = range(len(labels_rmse_mae))\n",
    "\n",
    "ax1.bar([i - 0.3 for i in x], metrics_all_raw[:2], width=0.2, label='сыр: с категориями', color=colors[0])\n",
    "ax1.bar([i - 0.1 for i in x], metrics_num_raw[:2], width=0.2, label='сыр: только числа', color=colors[1])\n",
    "ax1.bar([i + 0.1 for i in x], metrics_all_clean[:2], width=0.2, label='очищ: с категориями', color=colors[2])\n",
    "ax1.bar([i + 0.3 for i in x], metrics_num_clean[:2], width=0.2, label='очищ: только числа', color=colors[3])\n",
    "ax1.set_xticks(x)\n",
    "ax1.set_xticklabels(labels_rmse_mae)\n",
    "ax1.set_ylabel('значение')\n",
    "ax1.set_title('RMSE и MAE')\n",
    "ax1.legend()\n",
    "ax1.grid(True, linestyle='--', alpha=0.5)\n",
    "\n",
    "# данные для R2\n",
    "r2_labels = ['сыр: кат', 'сыр: числ', 'очищ: кат', 'очищ: числ']\n",
    "r2_values = [metrics_all_raw[2], metrics_num_raw[2], metrics_all_clean[2], metrics_num_clean[2]]\n",
    "\n",
    "ax2.bar(r2_labels, r2_values, color=colors)\n",
    "ax2.set_ylabel('R2')\n",
    "ax2.set_title('R2')\n",
    "ax2.set_ylim(0.5, 0.7)\n",
    "ax2.grid(True, linestyle='--', alpha=0.5)\n",
    "\n",
    "plt.suptitle('Сравнение моделей: до и после фильтрации выбросов', fontsize=14)\n",
    "plt.tight_layout()\n",
    "plt.show()"
   ]
  },
  {
   "cell_type": "code",
   "execution_count": 21,
   "id": "2e891272",
   "metadata": {},
   "outputs": [],
   "source": [
    "spark.stop()"
   ]
  },
  {
   "cell_type": "markdown",
   "id": "8e1f6d11",
   "metadata": {},
   "source": [
    "## Вывод"
   ]
  },
  {
   "cell_type": "markdown",
   "id": "71d2e970",
   "metadata": {},
   "source": [
    "- **Категориальные признаки**:\n",
    "  - В обоих вариантах модели (сырые и очищенные) включение категориальных признаков улучшает качество: RMSE и MAE ниже, R² выше.\n",
    "  \n",
    "- **Очистка данных**:\n",
    "  - После очистки (удаление выбросов, заполнение пропусков) модели становятся значительно точнее: RMSE и MAE снижаются примерно на 18–19 тыс. и 11–12 тыс. соответственно.\n",
    "  - Однако R² слегка снижается у очищенной модели с категориальными признаками (с 0.6378 до 0.6227), что может быть связано с потерей информации о дорогом жилье после удаления выбросов.\n",
    "\n",
    "- **Общая картина**:\n",
    "  - Лучшая по R² — **сырая модель с категориальными**.\n",
    "  - Лучшая по ошибкам (RMSE и MAE) — **очищенная модель с категориальными**."
   ]
  }
 ],
 "metadata": {
  "ExecuteTimeLog": [
   {
    "duration": 3458,
    "start_time": "2025-04-11T14:47:04.493Z"
   },
   {
    "duration": 2236,
    "start_time": "2025-04-11T14:51:47.926Z"
   },
   {
    "duration": 1307,
    "start_time": "2025-04-11T14:51:50.164Z"
   },
   {
    "duration": 14481,
    "start_time": "2025-04-11T14:51:51.472Z"
   },
   {
    "duration": 190,
    "start_time": "2025-04-11T14:52:05.955Z"
   },
   {
    "duration": 126,
    "start_time": "2025-04-11T14:52:06.148Z"
   },
   {
    "duration": 0,
    "start_time": "2025-04-11T14:52:06.275Z"
   },
   {
    "duration": 0,
    "start_time": "2025-04-11T14:52:06.277Z"
   },
   {
    "duration": 0,
    "start_time": "2025-04-11T14:52:06.277Z"
   },
   {
    "duration": 0,
    "start_time": "2025-04-11T14:52:06.279Z"
   },
   {
    "duration": 0,
    "start_time": "2025-04-11T14:52:06.279Z"
   },
   {
    "duration": 0,
    "start_time": "2025-04-11T14:52:06.280Z"
   },
   {
    "duration": 0,
    "start_time": "2025-04-11T14:52:06.281Z"
   },
   {
    "duration": 0,
    "start_time": "2025-04-11T14:52:06.282Z"
   },
   {
    "duration": 0,
    "start_time": "2025-04-11T14:52:06.283Z"
   },
   {
    "duration": 0,
    "start_time": "2025-04-11T14:52:06.284Z"
   },
   {
    "duration": 0,
    "start_time": "2025-04-11T14:52:06.285Z"
   },
   {
    "duration": 0,
    "start_time": "2025-04-11T14:52:06.286Z"
   },
   {
    "duration": 0,
    "start_time": "2025-04-11T14:52:06.287Z"
   },
   {
    "duration": 0,
    "start_time": "2025-04-11T14:52:06.288Z"
   },
   {
    "duration": 0,
    "start_time": "2025-04-11T14:52:06.288Z"
   },
   {
    "duration": 130,
    "start_time": "2025-04-11T14:52:14.325Z"
   },
   {
    "duration": 8,
    "start_time": "2025-04-11T14:52:18.746Z"
   },
   {
    "duration": 2222,
    "start_time": "2025-04-11T14:52:27.174Z"
   },
   {
    "duration": 1188,
    "start_time": "2025-04-11T14:52:29.399Z"
   },
   {
    "duration": 14056,
    "start_time": "2025-04-11T14:52:30.588Z"
   },
   {
    "duration": 222,
    "start_time": "2025-04-11T14:52:44.646Z"
   },
   {
    "duration": 102,
    "start_time": "2025-04-11T14:52:44.870Z"
   },
   {
    "duration": 0,
    "start_time": "2025-04-11T14:52:44.973Z"
   },
   {
    "duration": 1,
    "start_time": "2025-04-11T14:52:44.974Z"
   },
   {
    "duration": 0,
    "start_time": "2025-04-11T14:52:44.975Z"
   },
   {
    "duration": 0,
    "start_time": "2025-04-11T14:52:44.976Z"
   },
   {
    "duration": 0,
    "start_time": "2025-04-11T14:52:44.977Z"
   },
   {
    "duration": 0,
    "start_time": "2025-04-11T14:52:44.979Z"
   },
   {
    "duration": 0,
    "start_time": "2025-04-11T14:52:44.980Z"
   },
   {
    "duration": 0,
    "start_time": "2025-04-11T14:52:44.980Z"
   },
   {
    "duration": 0,
    "start_time": "2025-04-11T14:52:44.981Z"
   },
   {
    "duration": 0,
    "start_time": "2025-04-11T14:52:44.982Z"
   },
   {
    "duration": 0,
    "start_time": "2025-04-11T14:52:44.983Z"
   },
   {
    "duration": 0,
    "start_time": "2025-04-11T14:52:44.984Z"
   },
   {
    "duration": 0,
    "start_time": "2025-04-11T14:52:44.985Z"
   },
   {
    "duration": 0,
    "start_time": "2025-04-11T14:52:44.986Z"
   },
   {
    "duration": 0,
    "start_time": "2025-04-11T14:52:44.987Z"
   },
   {
    "duration": 165,
    "start_time": "2025-04-11T14:52:59.435Z"
   },
   {
    "duration": 7100,
    "start_time": "2025-04-11T14:53:37.952Z"
   },
   {
    "duration": 2256,
    "start_time": "2025-04-11T14:56:19.127Z"
   },
   {
    "duration": 1136,
    "start_time": "2025-04-11T14:56:21.385Z"
   },
   {
    "duration": 14824,
    "start_time": "2025-04-11T14:56:22.523Z"
   },
   {
    "duration": 7393,
    "start_time": "2025-04-11T14:56:37.348Z"
   },
   {
    "duration": 714,
    "start_time": "2025-04-11T14:56:44.744Z"
   },
   {
    "duration": 1889,
    "start_time": "2025-04-11T14:56:45.459Z"
   },
   {
    "duration": 3103,
    "start_time": "2025-04-11T14:56:47.350Z"
   },
   {
    "duration": 789,
    "start_time": "2025-04-11T14:56:50.455Z"
   },
   {
    "duration": 5627,
    "start_time": "2025-04-11T14:56:51.246Z"
   },
   {
    "duration": 85,
    "start_time": "2025-04-11T14:56:56.876Z"
   },
   {
    "duration": 13,
    "start_time": "2025-04-11T14:56:56.963Z"
   },
   {
    "duration": 1570,
    "start_time": "2025-04-11T14:56:56.977Z"
   },
   {
    "duration": 803,
    "start_time": "2025-04-11T14:56:58.549Z"
   },
   {
    "duration": 87,
    "start_time": "2025-04-11T14:56:59.354Z"
   },
   {
    "duration": 22,
    "start_time": "2025-04-11T14:56:59.443Z"
   },
   {
    "duration": 7187,
    "start_time": "2025-04-11T14:56:59.467Z"
   },
   {
    "duration": 4701,
    "start_time": "2025-04-11T14:57:06.655Z"
   },
   {
    "duration": 5331,
    "start_time": "2025-04-11T14:57:11.358Z"
   },
   {
    "duration": 4,
    "start_time": "2025-04-11T14:57:16.691Z"
   },
   {
    "duration": 467,
    "start_time": "2025-04-11T14:57:16.697Z"
   },
   {
    "duration": 2282,
    "start_time": "2025-04-11T14:59:07.781Z"
   },
   {
    "duration": 1195,
    "start_time": "2025-04-11T14:59:10.065Z"
   },
   {
    "duration": 15612,
    "start_time": "2025-04-11T14:59:11.261Z"
   },
   {
    "duration": 7699,
    "start_time": "2025-04-11T14:59:26.874Z"
   },
   {
    "duration": 622,
    "start_time": "2025-04-11T14:59:34.635Z"
   },
   {
    "duration": 1697,
    "start_time": "2025-04-11T14:59:35.259Z"
   },
   {
    "duration": 3180,
    "start_time": "2025-04-11T14:59:36.958Z"
   },
   {
    "duration": 730,
    "start_time": "2025-04-11T14:59:40.140Z"
   },
   {
    "duration": 5943,
    "start_time": "2025-04-11T14:59:40.936Z"
   },
   {
    "duration": 72,
    "start_time": "2025-04-11T14:59:46.881Z"
   },
   {
    "duration": 13,
    "start_time": "2025-04-11T14:59:46.955Z"
   },
   {
    "duration": 1602,
    "start_time": "2025-04-11T14:59:46.969Z"
   },
   {
    "duration": 895,
    "start_time": "2025-04-11T14:59:48.573Z"
   },
   {
    "duration": 85,
    "start_time": "2025-04-11T14:59:49.471Z"
   },
   {
    "duration": 15,
    "start_time": "2025-04-11T14:59:49.558Z"
   },
   {
    "duration": 7177,
    "start_time": "2025-04-11T14:59:49.575Z"
   },
   {
    "duration": 5882,
    "start_time": "2025-04-11T14:59:56.753Z"
   },
   {
    "duration": 7916,
    "start_time": "2025-04-11T15:00:02.638Z"
   },
   {
    "duration": 4,
    "start_time": "2025-04-11T15:00:10.556Z"
   },
   {
    "duration": 501,
    "start_time": "2025-04-11T15:00:10.562Z"
   },
   {
    "duration": 3734,
    "start_time": "2025-04-16T05:16:57.024Z"
   },
   {
    "duration": 1606,
    "start_time": "2025-04-16T05:17:00.761Z"
   },
   {
    "duration": 16326,
    "start_time": "2025-04-16T05:17:02.369Z"
   },
   {
    "duration": 8689,
    "start_time": "2025-04-16T05:17:18.697Z"
   },
   {
    "duration": 899,
    "start_time": "2025-04-16T05:17:27.388Z"
   },
   {
    "duration": 98,
    "start_time": "2025-04-16T05:17:28.289Z"
   },
   {
    "duration": 2198,
    "start_time": "2025-04-16T05:17:28.389Z"
   },
   {
    "duration": 3598,
    "start_time": "2025-04-16T05:17:30.589Z"
   },
   {
    "duration": 921,
    "start_time": "2025-04-16T05:17:34.189Z"
   },
   {
    "duration": 0,
    "start_time": "2025-04-16T05:17:35.113Z"
   },
   {
    "duration": 0,
    "start_time": "2025-04-16T05:17:35.114Z"
   },
   {
    "duration": 0,
    "start_time": "2025-04-16T05:17:35.115Z"
   },
   {
    "duration": 0,
    "start_time": "2025-04-16T05:17:35.117Z"
   },
   {
    "duration": 0,
    "start_time": "2025-04-16T05:17:35.118Z"
   },
   {
    "duration": 0,
    "start_time": "2025-04-16T05:17:35.118Z"
   },
   {
    "duration": 0,
    "start_time": "2025-04-16T05:17:35.177Z"
   },
   {
    "duration": 0,
    "start_time": "2025-04-16T05:17:35.178Z"
   },
   {
    "duration": 0,
    "start_time": "2025-04-16T05:17:35.180Z"
   },
   {
    "duration": 0,
    "start_time": "2025-04-16T05:17:35.181Z"
   },
   {
    "duration": 2640,
    "start_time": "2025-04-16T05:20:08.361Z"
   },
   {
    "duration": 1448,
    "start_time": "2025-04-16T05:20:11.003Z"
   },
   {
    "duration": 15764,
    "start_time": "2025-04-16T05:20:12.453Z"
   },
   {
    "duration": 8794,
    "start_time": "2025-04-16T05:20:28.219Z"
   },
   {
    "duration": 769,
    "start_time": "2025-04-16T05:20:37.016Z"
   },
   {
    "duration": 97,
    "start_time": "2025-04-16T05:20:37.786Z"
   },
   {
    "duration": 3196,
    "start_time": "2025-04-16T05:20:37.886Z"
   },
   {
    "duration": 3731,
    "start_time": "2025-04-16T05:20:41.084Z"
   },
   {
    "duration": 961,
    "start_time": "2025-04-16T05:20:44.816Z"
   },
   {
    "duration": 6709,
    "start_time": "2025-04-16T05:20:45.779Z"
   },
   {
    "duration": 37,
    "start_time": "2025-04-16T05:20:52.490Z"
   },
   {
    "duration": 59,
    "start_time": "2025-04-16T05:20:52.529Z"
   },
   {
    "duration": 1805,
    "start_time": "2025-04-16T05:20:52.590Z"
   },
   {
    "duration": 1000,
    "start_time": "2025-04-16T05:20:54.399Z"
   },
   {
    "duration": 494,
    "start_time": "2025-04-16T05:20:55.401Z"
   },
   {
    "duration": 0,
    "start_time": "2025-04-16T05:20:55.898Z"
   },
   {
    "duration": 0,
    "start_time": "2025-04-16T05:20:55.899Z"
   },
   {
    "duration": 0,
    "start_time": "2025-04-16T05:20:55.900Z"
   },
   {
    "duration": 0,
    "start_time": "2025-04-16T05:20:55.902Z"
   },
   {
    "duration": 16,
    "start_time": "2025-04-16T05:21:22.813Z"
   },
   {
    "duration": 172,
    "start_time": "2025-04-16T05:22:33.721Z"
   },
   {
    "duration": 799,
    "start_time": "2025-04-16T05:22:36.303Z"
   },
   {
    "duration": 976,
    "start_time": "2025-04-16T05:22:37.104Z"
   },
   {
    "duration": 2659,
    "start_time": "2025-04-16T05:37:11.387Z"
   },
   {
    "duration": 4,
    "start_time": "2025-04-16T05:37:14.049Z"
   },
   {
    "duration": 18,
    "start_time": "2025-04-16T05:37:14.055Z"
   },
   {
    "duration": 531,
    "start_time": "2025-04-16T05:37:14.076Z"
   },
   {
    "duration": 137,
    "start_time": "2025-04-16T05:37:15.263Z"
   },
   {
    "duration": 2651,
    "start_time": "2025-04-16T05:37:33.006Z"
   },
   {
    "duration": 1418,
    "start_time": "2025-04-16T05:37:35.661Z"
   },
   {
    "duration": 16119,
    "start_time": "2025-04-16T05:37:37.081Z"
   },
   {
    "duration": 9375,
    "start_time": "2025-04-16T05:37:53.203Z"
   },
   {
    "duration": 803,
    "start_time": "2025-04-16T05:38:02.580Z"
   },
   {
    "duration": 94,
    "start_time": "2025-04-16T05:38:03.386Z"
   },
   {
    "duration": 2749,
    "start_time": "2025-04-16T05:38:21.946Z"
   },
   {
    "duration": 3121,
    "start_time": "2025-04-16T05:38:27.192Z"
   },
   {
    "duration": 5275,
    "start_time": "2025-04-16T05:38:35.404Z"
   },
   {
    "duration": 0,
    "start_time": "2025-04-16T05:38:40.814Z"
   },
   {
    "duration": 11,
    "start_time": "2025-04-16T05:38:43.740Z"
   },
   {
    "duration": 652,
    "start_time": "2025-04-16T05:38:48.333Z"
   },
   {
    "duration": 3494,
    "start_time": "2025-04-16T05:39:04.301Z"
   },
   {
    "duration": 681,
    "start_time": "2025-04-16T05:39:08.614Z"
   },
   {
    "duration": 3,
    "start_time": "2025-04-16T05:40:17.893Z"
   },
   {
    "duration": 4565,
    "start_time": "2025-04-16T05:40:22.538Z"
   },
   {
    "duration": 43,
    "start_time": "2025-04-16T05:44:06.422Z"
   },
   {
    "duration": 4,
    "start_time": "2025-04-16T05:44:08.546Z"
   },
   {
    "duration": 1688,
    "start_time": "2025-04-16T05:46:32.529Z"
   },
   {
    "duration": 1560,
    "start_time": "2025-04-16T05:47:27.856Z"
   },
   {
    "duration": 5479,
    "start_time": "2025-04-16T05:48:51.619Z"
   },
   {
    "duration": 251,
    "start_time": "2025-04-16T05:53:05.040Z"
   },
   {
    "duration": 30,
    "start_time": "2025-04-16T05:55:40.856Z"
   },
   {
    "duration": 5356,
    "start_time": "2025-04-16T05:55:44.350Z"
   },
   {
    "duration": 4,
    "start_time": "2025-04-16T05:55:49.709Z"
   },
   {
    "duration": 6,
    "start_time": "2025-04-16T05:56:21.058Z"
   },
   {
    "duration": 526,
    "start_time": "2025-04-16T05:56:25.810Z"
   },
   {
    "duration": 11,
    "start_time": "2025-04-16T06:05:39.818Z"
   },
   {
    "duration": 11,
    "start_time": "2025-04-16T06:05:41.066Z"
   },
   {
    "duration": 1397,
    "start_time": "2025-04-16T06:05:42.014Z"
   },
   {
    "duration": 18,
    "start_time": "2025-04-16T06:07:04.089Z"
   },
   {
    "duration": 6101,
    "start_time": "2025-04-16T06:13:14.199Z"
   },
   {
    "duration": 42,
    "start_time": "2025-04-16T06:46:13.242Z"
   },
   {
    "duration": 2621,
    "start_time": "2025-04-16T06:46:29.154Z"
   },
   {
    "duration": 1414,
    "start_time": "2025-04-16T06:46:31.777Z"
   },
   {
    "duration": 15885,
    "start_time": "2025-04-16T06:46:33.192Z"
   },
   {
    "duration": 8805,
    "start_time": "2025-04-16T06:46:49.079Z"
   },
   {
    "duration": 792,
    "start_time": "2025-04-16T06:46:57.886Z"
   },
   {
    "duration": 28,
    "start_time": "2025-04-16T06:46:58.680Z"
   },
   {
    "duration": 3089,
    "start_time": "2025-04-16T06:46:58.710Z"
   },
   {
    "duration": 3379,
    "start_time": "2025-04-16T06:47:01.802Z"
   },
   {
    "duration": 5428,
    "start_time": "2025-04-16T06:47:05.183Z"
   },
   {
    "duration": 801,
    "start_time": "2025-04-16T06:47:10.677Z"
   },
   {
    "duration": 4,
    "start_time": "2025-04-16T06:47:11.480Z"
   },
   {
    "duration": 5222,
    "start_time": "2025-04-16T06:47:11.485Z"
   },
   {
    "duration": 92,
    "start_time": "2025-04-16T06:47:16.709Z"
   },
   {
    "duration": 102,
    "start_time": "2025-04-16T06:47:16.805Z"
   },
   {
    "duration": 3008,
    "start_time": "2025-04-16T06:47:16.909Z"
   },
   {
    "duration": 10618,
    "start_time": "2025-04-16T06:47:19.977Z"
   },
   {
    "duration": 150,
    "start_time": "2025-04-16T06:47:30.597Z"
   },
   {
    "duration": 0,
    "start_time": "2025-04-16T06:47:30.749Z"
   },
   {
    "duration": 0,
    "start_time": "2025-04-16T06:47:30.750Z"
   },
   {
    "duration": 0,
    "start_time": "2025-04-16T06:47:30.751Z"
   },
   {
    "duration": 0,
    "start_time": "2025-04-16T06:47:30.752Z"
   },
   {
    "duration": 87,
    "start_time": "2025-04-16T06:47:46.499Z"
   },
   {
    "duration": 45,
    "start_time": "2025-04-16T06:48:40.880Z"
   },
   {
    "duration": 79,
    "start_time": "2025-04-16T06:56:14.999Z"
   },
   {
    "duration": 1438,
    "start_time": "2025-04-16T07:01:24.276Z"
   },
   {
    "duration": 138,
    "start_time": "2025-04-16T07:01:34.240Z"
   },
   {
    "duration": 1379,
    "start_time": "2025-04-16T07:01:59.812Z"
   },
   {
    "duration": 5675,
    "start_time": "2025-04-16T07:02:03.054Z"
   },
   {
    "duration": 357,
    "start_time": "2025-04-16T07:02:08.731Z"
   },
   {
    "duration": 10,
    "start_time": "2025-04-16T07:02:09.090Z"
   },
   {
    "duration": 110,
    "start_time": "2025-04-16T07:02:40.592Z"
   },
   {
    "duration": 11,
    "start_time": "2025-04-16T07:03:08.979Z"
   },
   {
    "duration": 3855,
    "start_time": "2025-04-16T07:03:13.836Z"
   },
   {
    "duration": 5,
    "start_time": "2025-04-16T07:03:17.693Z"
   },
   {
    "duration": 541,
    "start_time": "2025-04-16T07:03:26.675Z"
   },
   {
    "duration": 13,
    "start_time": "2025-04-16T07:05:14.393Z"
   },
   {
    "duration": 4407,
    "start_time": "2025-04-16T07:05:31.876Z"
   },
   {
    "duration": 2588,
    "start_time": "2025-04-16T07:05:39.123Z"
   },
   {
    "duration": 1307,
    "start_time": "2025-04-16T07:05:41.714Z"
   },
   {
    "duration": 17080,
    "start_time": "2025-04-16T07:05:43.022Z"
   },
   {
    "duration": 9003,
    "start_time": "2025-04-16T07:06:00.105Z"
   },
   {
    "duration": 772,
    "start_time": "2025-04-16T07:06:09.111Z"
   },
   {
    "duration": 100,
    "start_time": "2025-04-16T07:06:09.885Z"
   },
   {
    "duration": 2790,
    "start_time": "2025-04-16T07:06:09.987Z"
   },
   {
    "duration": 4400,
    "start_time": "2025-04-16T07:06:12.779Z"
   },
   {
    "duration": 5110,
    "start_time": "2025-04-16T07:06:17.181Z"
   },
   {
    "duration": 793,
    "start_time": "2025-04-16T07:06:22.293Z"
   },
   {
    "duration": 5521,
    "start_time": "2025-04-16T07:06:23.088Z"
   },
   {
    "duration": 0,
    "start_time": "2025-04-16T07:06:28.611Z"
   },
   {
    "duration": 0,
    "start_time": "2025-04-16T07:06:28.613Z"
   },
   {
    "duration": 0,
    "start_time": "2025-04-16T07:06:28.614Z"
   },
   {
    "duration": 0,
    "start_time": "2025-04-16T07:06:28.616Z"
   },
   {
    "duration": 0,
    "start_time": "2025-04-16T07:06:28.617Z"
   },
   {
    "duration": 0,
    "start_time": "2025-04-16T07:06:28.619Z"
   },
   {
    "duration": 0,
    "start_time": "2025-04-16T07:06:28.620Z"
   },
   {
    "duration": 0,
    "start_time": "2025-04-16T07:06:28.621Z"
   },
   {
    "duration": 0,
    "start_time": "2025-04-16T07:06:28.622Z"
   },
   {
    "duration": 0,
    "start_time": "2025-04-16T07:06:28.623Z"
   },
   {
    "duration": 4017,
    "start_time": "2025-04-16T07:06:38.166Z"
   },
   {
    "duration": 29,
    "start_time": "2025-04-16T07:06:50.095Z"
   },
   {
    "duration": 23,
    "start_time": "2025-04-16T07:06:50.430Z"
   },
   {
    "duration": 2928,
    "start_time": "2025-04-16T07:06:50.771Z"
   },
   {
    "duration": 10183,
    "start_time": "2025-04-16T07:06:53.702Z"
   },
   {
    "duration": 414,
    "start_time": "2025-04-16T07:07:03.887Z"
   },
   {
    "duration": 186,
    "start_time": "2025-04-16T07:07:04.303Z"
   },
   {
    "duration": 5688,
    "start_time": "2025-04-16T07:07:04.492Z"
   },
   {
    "duration": 5,
    "start_time": "2025-04-16T07:07:10.182Z"
   },
   {
    "duration": 648,
    "start_time": "2025-04-16T07:07:10.189Z"
   },
   {
    "duration": 643,
    "start_time": "2025-04-16T07:07:10.839Z"
   },
   {
    "duration": 2590,
    "start_time": "2025-04-16T07:07:26.325Z"
   },
   {
    "duration": 1358,
    "start_time": "2025-04-16T07:07:28.918Z"
   },
   {
    "duration": 16403,
    "start_time": "2025-04-16T07:07:30.278Z"
   },
   {
    "duration": 8826,
    "start_time": "2025-04-16T07:07:46.684Z"
   },
   {
    "duration": 871,
    "start_time": "2025-04-16T07:07:55.514Z"
   },
   {
    "duration": 95,
    "start_time": "2025-04-16T07:07:56.387Z"
   },
   {
    "duration": 2912,
    "start_time": "2025-04-16T07:07:56.484Z"
   },
   {
    "duration": 3287,
    "start_time": "2025-04-16T07:07:59.398Z"
   },
   {
    "duration": 5305,
    "start_time": "2025-04-16T07:08:02.687Z"
   },
   {
    "duration": 790,
    "start_time": "2025-04-16T07:08:07.993Z"
   },
   {
    "duration": 5720,
    "start_time": "2025-04-16T07:08:08.785Z"
   },
   {
    "duration": 86,
    "start_time": "2025-04-16T07:08:14.506Z"
   },
   {
    "duration": 82,
    "start_time": "2025-04-16T07:08:14.594Z"
   },
   {
    "duration": 3907,
    "start_time": "2025-04-16T07:08:14.679Z"
   },
   {
    "duration": 9865,
    "start_time": "2025-04-16T07:08:18.588Z"
   },
   {
    "duration": 333,
    "start_time": "2025-04-16T07:08:28.455Z"
   },
   {
    "duration": 193,
    "start_time": "2025-04-16T07:08:28.790Z"
   },
   {
    "duration": 4622,
    "start_time": "2025-04-16T07:08:28.986Z"
   },
   {
    "duration": 5,
    "start_time": "2025-04-16T07:08:33.610Z"
   },
   {
    "duration": 730,
    "start_time": "2025-04-16T07:08:33.677Z"
   },
   {
    "duration": 400,
    "start_time": "2025-04-16T07:08:34.409Z"
   },
   {
    "duration": 150,
    "start_time": "2025-04-16T07:10:10.224Z"
   }
  ],
  "colab": {
   "name": "PySparkSprint.ipynb",
   "provenance": []
  },
  "kernelspec": {
   "display_name": "Python 3 (ipykernel)",
   "language": "python",
   "name": "python3"
  },
  "language_info": {
   "codemirror_mode": {
    "name": "ipython",
    "version": 3
   },
   "file_extension": ".py",
   "mimetype": "text/x-python",
   "name": "python",
   "nbconvert_exporter": "python",
   "pygments_lexer": "ipython3",
   "version": "3.11.9"
  },
  "toc": {
   "base_numbering": 1,
   "nav_menu": {},
   "number_sections": true,
   "sideBar": true,
   "skip_h1_title": true,
   "title_cell": "Table of Contents",
   "title_sidebar": "Contents",
   "toc_cell": false,
   "toc_position": {
    "height": "calc(100% - 180px)",
    "left": "10px",
    "top": "150px",
    "width": "275.198px"
   },
   "toc_section_display": true,
   "toc_window_display": true
  }
 },
 "nbformat": 4,
 "nbformat_minor": 5
}
